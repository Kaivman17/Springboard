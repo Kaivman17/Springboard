{
 "cells": [
  {
   "cell_type": "markdown",
   "metadata": {},
   "source": [
    "# XML example and exercise\n",
    "****\n",
    "+ study examples of accessing nodes in XML tree structure  \n",
    "+ work on exercise to be completed and submitted\n",
    "****\n",
    "+ reference: https://docs.python.org/2.7/library/xml.etree.elementtree.html\n",
    "+ data source: http://www.dbis.informatik.uni-goettingen.de/Mondial\n",
    "****"
   ]
  },
  {
   "cell_type": "code",
   "execution_count": 2,
   "metadata": {
    "collapsed": true
   },
   "outputs": [],
   "source": [
    "from xml.etree import ElementTree as ET"
   ]
  },
  {
   "cell_type": "markdown",
   "metadata": {},
   "source": [
    "## XML example\n",
    "\n",
    "+ for details about tree traversal and iterators, see https://docs.python.org/2.7/library/xml.etree.elementtree.html"
   ]
  },
  {
   "cell_type": "code",
   "execution_count": 10,
   "metadata": {
    "collapsed": true
   },
   "outputs": [],
   "source": [
    "document_tree = ET.parse( './data/mondial_database_less.xml' )"
   ]
  },
  {
   "cell_type": "code",
   "execution_count": 26,
   "metadata": {
    "collapsed": false
   },
   "outputs": [
    {
     "name": "stdout",
     "output_type": "stream",
     "text": [
      "country {'memberships': 'org-BSEC org-CEI org-CD org-SELEC org-CE org-EAPC org-EBRD org-EITI org-FAO org-IPU org-IAEA org-IBRD org-ICC org-ICAO org-ICCt org-Interpol org-IDA org-IFRCS org-IFC org-IFAD org-ILO org-IMO org-IMF org-IOC org-IOM org-ISO org-OIF org-ITU org-ITUC org-IDB org-MIGA org-NATO org-OSCE org-OPCW org-OAS org-OIC org-PCA org-UN org-UNCTAD org-UNESCO org-UNIDO org-UPU org-WCO org-WFTU org-WHO org-WIPO org-WMO org-UNWTO org-WTO', 'capital': 'cty-Albania-Tirane', 'area': '28750', 'car_code': 'AL'}\n",
      "country {'memberships': 'org-AG org-BIS org-BSEC org-CD org-SELEC org-CE org-EMU org-EAPC org-EBRD org-ECB org-EIB org-CERN org-ESA org-EU org-FATF org-FAO org-IGAD org-IPU org-IAEA org-IBRD org-ICC org-ICAO org-ICJ org-ICCt org-Interpol org-IDA org-IEA org-IFRCS org-IFC org-IFAD org-IHO org-ILO org-IMO org-IMSO org-IMF org-IOC org-IOM org-OIF org-ITSO org-ITU org-ITUC org-MIGA org-NATO org-NEA org-NSG org-OECD org-OSCE org-OPCW org-OAS org-PCA org-UN org-UNCTAD org-UNESCO org-UNHCR org-UNIDO org-UNIFIL org-UPU org-WCO org-WFTU org-WHO org-WIPO org-WMO org-UNWTO org-WTO org-ZC', 'capital': 'cty-Greece-Athens', 'area': '131940', 'car_code': 'GR'}\n",
      "country {'memberships': 'org-BIS org-CEI org-CD org-SELEC org-CE org-EAPC org-EBRD org-EU org-FAO org-IPU org-IAEA org-IBRD org-ICC org-ICAO org-ICCt org-Interpol org-IDA org-IFRCS org-IFC org-IFAD org-ILO org-IMO org-IMF org-IOC org-IOM org-OIF org-ITU org-ITUC org-MIGA org-OSCE org-OPCW org-OAS org-PFP org-PCA org-UN org-UNCTAD org-UNESCO org-UNHCR org-UNIDO org-UNIFIL org-UPU org-WCO org-WHO org-WIPO org-WMO org-UNWTO org-WTO', 'capital': 'cty-Macedonia-Skopje', 'area': '25333', 'car_code': 'MK'}\n",
      "country {'memberships': 'org-BIS org-BSEC org-CEI org-CD org-SELEC org-CE org-EAPC org-EBRD org-EU org-FAO org-G-9 org-IPU org-IAEA org-IBRD org-ICC org-ICAO org-ICCt org-Interpol org-IDA org-IFRCS org-IFC org-IHO org-ILO org-IMO org-IMSO org-IMF org-IOC org-IOM org-OIF org-ITSO org-ITU org-ITUC org-MIGA org-NAM org-NSG org-OSCE org-OPCW org-OAS org-PFP org-PCA org-UN org-UNCTAD org-UNESCO org-UNHCR org-UNIDO org-UNIFIL org-UNMIL org-UNOCI org-MONUSCO org-UNFICYP org-UNTSO org-UPU org-WCO org-WHO org-WIPO org-WMO org-UNWTO org-WTO', 'capital': 'city-Belgrade-SRB-SRB', 'area': '77474', 'car_code': 'SRB'}\n",
      "country {'memberships': 'org-CEI org-CD org-SELEC org-CE org-EAPC org-EBRD org-EU org-FAO org-IPU org-IAEA org-IBRD org-ICC org-ICAO org-ICCt org-Interpol org-IDA org-IFRCS org-IFC org-IHO org-ILO org-IMO org-IMSO org-IMF org-IOC org-IOM org-ISO org-OIF org-ITSO org-ITU org-ITUC org-MIGA org-NAM org-OSCE org-OPCW org-PFP org-PCA org-UN org-UNCTAD org-UNESCO org-UNHCR org-UNIDO org-UNMIL org-UPU org-WCO org-WHO org-WIPO org-WMO org-UNWTO org-WTO', 'capital': 'city-Podgorica-MNE-MNE', 'area': '14026', 'car_code': 'MNE'}\n",
      "country {'memberships': 'org-CD org-EBRD org-IBRD org-IDA org-IFC org-IMF org-ITUC', 'capital': 'city-Pristina-KOS-KOS', 'area': '10887', 'car_code': 'KOS'}\n",
      "country {'memberships': 'org-CE org-FAO org-IPU org-ICC org-ICAO org-ICCt org-Interpol org-IFRCS org-IOC org-OIF org-ITU org-OSCE org-OPCW org-UN org-UNCTAD org-UNESCO org-WCO org-WHO org-WIPO org-UNWTO org-WTO', 'capital': 'cty-Andorra-Andorra-la-Vella', 'area': '450', 'car_code': 'AND'}\n"
     ]
    }
   ],
   "source": [
    "# print names of all countries\n",
    "for child in document_tree.getroot():\n",
    "    print(child.tag, child.attrib)"
   ]
  },
  {
   "cell_type": "code",
   "execution_count": 19,
   "metadata": {
    "collapsed": false
   },
   "outputs": [
    {
     "name": "stdout",
     "output_type": "stream",
     "text": [
      "* Albania:\n",
      "Tirana, Shkodër, Durrës, Vlorë, Elbasan, Korçë\n",
      "* Greece:\n",
      "Komotini, Kavala, Athina, Peiraias, Peristeri, Acharnes, Patra, Kozani, Kerkyra, Ioannina, Thessaloniki, Iraklio, Chania, Ermoupoli, Rhodes, Tripoli, Lamia, Chalkida, Larissa, Volos, Mytilini, Karyes\n",
      "* Macedonia:\n",
      "Skopje, Kumanovo\n",
      "* Serbia:\n",
      "Beograd, Novi Sad, Niš\n",
      "* Montenegro:\n",
      "Podgorica\n",
      "* Kosovo:\n",
      "Prishtine\n",
      "* Andorra:\n",
      "Andorra la Vella\n"
     ]
    }
   ],
   "source": [
    "# print names of all countries and their cities\n",
    "for element in document_tree.iterfind('country'):\n",
    "    print('* ' + element.find('name').text + ':'),\n",
    "    capitals_string = ''\n",
    "    for subelement in element.getiterator('city'):\n",
    "        capitals_string += subelement.find('name').text + ', '\n",
    "    print(capitals_string[:-2])"
   ]
  },
  {
   "cell_type": "markdown",
   "metadata": {},
   "source": [
    "****\n",
    "## XML exercise\n",
    "\n",
    "Using data in 'data/mondial_database.xml', the examples above, and refering to https://docs.python.org/2.7/library/xml.etree.elementtree.html, find\n",
    "\n",
    "1. 10 countries with the lowest infant mortality rates\n",
    "2. 10 cities with the largest population\n",
    "3. 10 ethnic groups with the largest overall populations (sum of best/latest estimates over all countries)\n",
    "4. name and country of a) longest river, b) largest lake and c) airport at highest elevation"
   ]
  },
  {
   "cell_type": "markdown",
   "metadata": {
    "collapsed": true
   },
   "source": [
    "# 10 Countries with Lowest Infant Mortality Rates"
   ]
  },
  {
   "cell_type": "code",
   "execution_count": 22,
   "metadata": {
    "collapsed": false
   },
   "outputs": [],
   "source": [
    "import pandas as pd\n",
    "document_tree = ET.parse('./data/mondial_database.xml')"
   ]
  },
  {
   "cell_type": "code",
   "execution_count": 25,
   "metadata": {
    "collapsed": false
   },
   "outputs": [
    {
     "data": {
      "text/html": [
       "<div>\n",
       "<table border=\"1\" class=\"dataframe\">\n",
       "  <thead>\n",
       "    <tr style=\"text-align: right;\">\n",
       "      <th></th>\n",
       "      <th>Infant_Mortality_Rate</th>\n",
       "    </tr>\n",
       "  </thead>\n",
       "  <tbody>\n",
       "    <tr>\n",
       "      <th>Monaco</th>\n",
       "      <td>1.81</td>\n",
       "    </tr>\n",
       "    <tr>\n",
       "      <th>Japan</th>\n",
       "      <td>2.13</td>\n",
       "    </tr>\n",
       "    <tr>\n",
       "      <th>Norway</th>\n",
       "      <td>2.48</td>\n",
       "    </tr>\n",
       "    <tr>\n",
       "      <th>Bermuda</th>\n",
       "      <td>2.48</td>\n",
       "    </tr>\n",
       "    <tr>\n",
       "      <th>Singapore</th>\n",
       "      <td>2.53</td>\n",
       "    </tr>\n",
       "    <tr>\n",
       "      <th>Sweden</th>\n",
       "      <td>2.60</td>\n",
       "    </tr>\n",
       "    <tr>\n",
       "      <th>Czech Republic</th>\n",
       "      <td>2.63</td>\n",
       "    </tr>\n",
       "    <tr>\n",
       "      <th>Hong Kong</th>\n",
       "      <td>2.73</td>\n",
       "    </tr>\n",
       "    <tr>\n",
       "      <th>Macao</th>\n",
       "      <td>3.13</td>\n",
       "    </tr>\n",
       "    <tr>\n",
       "      <th>Iceland</th>\n",
       "      <td>3.15</td>\n",
       "    </tr>\n",
       "  </tbody>\n",
       "</table>\n",
       "</div>"
      ],
      "text/plain": [
       "                Infant_Mortality_Rate\n",
       "Monaco                           1.81\n",
       "Japan                            2.13\n",
       "Norway                           2.48\n",
       "Bermuda                          2.48\n",
       "Singapore                        2.53\n",
       "Sweden                           2.60\n",
       "Czech Republic                   2.63\n",
       "Hong Kong                        2.73\n",
       "Macao                            3.13\n",
       "Iceland                          3.15"
      ]
     },
     "execution_count": 25,
     "metadata": {},
     "output_type": "execute_result"
    }
   ],
   "source": [
    "# set mortality_rates dictionary\n",
    "mortality_rates = {}\n",
    "\n",
    "# loop through tree to find countries and infant mortality rates\n",
    "for element in document_tree.iterfind('country'):\n",
    "    country = element.find('name')\n",
    "    infant_mortality = element.find('infant_mortality')\n",
    "    \n",
    "    # append keys and values to dictionary\n",
    "    if country != None and infant_mortality != None:\n",
    "        mortality_rates[country.text] = float(infant_mortality.text)\n",
    "\n",
    "# create dataframe from newly created dictionary, keys as rows\n",
    "mortality_rates_df = pd.DataFrame.from_dict(mortality_rates, orient='index')\n",
    "\n",
    "# label column and print out lowest 10 rates\n",
    "mortality_rates_df.columns=['Infant_Mortality_Rate']\n",
    "mortality_rates_df.sort_values(by='Infant_Mortality_Rate', ascending=True).head(10)\n",
    "\n"
   ]
  },
  {
   "cell_type": "markdown",
   "metadata": {},
   "source": [
    "# 10 Cities with Largest Population"
   ]
  },
  {
   "cell_type": "code",
   "execution_count": 43,
   "metadata": {
    "collapsed": false
   },
   "outputs": [
    {
     "data": {
      "text/html": [
       "<div>\n",
       "<table border=\"1\" class=\"dataframe\">\n",
       "  <thead>\n",
       "    <tr style=\"text-align: right;\">\n",
       "      <th></th>\n",
       "      <th>Population</th>\n",
       "    </tr>\n",
       "  </thead>\n",
       "  <tbody>\n",
       "    <tr>\n",
       "      <th>Shanghai</th>\n",
       "      <td>22315474</td>\n",
       "    </tr>\n",
       "    <tr>\n",
       "      <th>Istanbul</th>\n",
       "      <td>13710512</td>\n",
       "    </tr>\n",
       "    <tr>\n",
       "      <th>Mumbai</th>\n",
       "      <td>12442373</td>\n",
       "    </tr>\n",
       "    <tr>\n",
       "      <th>Moskva</th>\n",
       "      <td>11979529</td>\n",
       "    </tr>\n",
       "    <tr>\n",
       "      <th>Beijing</th>\n",
       "      <td>11716620</td>\n",
       "    </tr>\n",
       "    <tr>\n",
       "      <th>São Paulo</th>\n",
       "      <td>11152344</td>\n",
       "    </tr>\n",
       "    <tr>\n",
       "      <th>Tianjin</th>\n",
       "      <td>11090314</td>\n",
       "    </tr>\n",
       "    <tr>\n",
       "      <th>Guangzhou</th>\n",
       "      <td>11071424</td>\n",
       "    </tr>\n",
       "    <tr>\n",
       "      <th>Delhi</th>\n",
       "      <td>11034555</td>\n",
       "    </tr>\n",
       "    <tr>\n",
       "      <th>Shenzhen</th>\n",
       "      <td>10358381</td>\n",
       "    </tr>\n",
       "  </tbody>\n",
       "</table>\n",
       "</div>"
      ],
      "text/plain": [
       "           Population\n",
       "Shanghai     22315474\n",
       "Istanbul     13710512\n",
       "Mumbai       12442373\n",
       "Moskva       11979529\n",
       "Beijing      11716620\n",
       "São Paulo    11152344\n",
       "Tianjin      11090314\n",
       "Guangzhou    11071424\n",
       "Delhi        11034555\n",
       "Shenzhen     10358381"
      ]
     },
     "execution_count": 43,
     "metadata": {},
     "output_type": "execute_result"
    }
   ],
   "source": [
    "# set city popultion dictionary\n",
    "city_pops = {}\n",
    "\n",
    "# Loop to find city names and provinces\n",
    "for country in document_tree.iterfind('country'):\n",
    "    cities = country.findall('city')\n",
    "    provinces = country.findall('province')\n",
    "\n",
    "# add province population to cities\n",
    "    for province in provinces:\n",
    "        cities += province.findall('city')\n",
    "\n",
    "# Loops for city name and last population entry\n",
    "    for city in cities:\n",
    "        city_name = city.find('name').text\n",
    "        population = city.find('.//population[last()]')\n",
    "        \n",
    "# Skips popluation count if node is empty\n",
    "        if population != None:\n",
    "            city_pop = int(population.text)\n",
    "        # add city and pop to dictionary\n",
    "        city_pops[city_name] = city_pop\n",
    "\n",
    "# create dataframe from newly created dictionary, keys as rows\n",
    "city_pops_df = pd.DataFrame.from_dict(city_pops, orient='index')\n",
    "\n",
    "# label column and print out 10 highest populations\n",
    "city_pops_df.columns=['Population']\n",
    "city_pops_df.sort_values(by='Population', ascending=False).head(10)\n",
    "\n"
   ]
  },
  {
   "cell_type": "markdown",
   "metadata": {},
   "source": [
    "# 10 Ethnic Groups With the Largest Overall Populations (sum of best/latest estimates over all countries)"
   ]
  },
  {
   "cell_type": "code",
   "execution_count": 65,
   "metadata": {
    "collapsed": false
   },
   "outputs": [
    {
     "data": {
      "text/html": [
       "<div>\n",
       "<table border=\"1\" class=\"dataframe\">\n",
       "  <thead>\n",
       "    <tr style=\"text-align: right;\">\n",
       "      <th></th>\n",
       "      <th>Country</th>\n",
       "      <th>Population</th>\n",
       "    </tr>\n",
       "  </thead>\n",
       "  <tbody>\n",
       "    <tr>\n",
       "      <th>0</th>\n",
       "      <td>Puerto Rico</td>\n",
       "      <td>3725789</td>\n",
       "    </tr>\n",
       "    <tr>\n",
       "      <th>1</th>\n",
       "      <td>Colombia</td>\n",
       "      <td>47661787</td>\n",
       "    </tr>\n",
       "    <tr>\n",
       "      <th>2</th>\n",
       "      <td>Ceuta</td>\n",
       "      <td>82376</td>\n",
       "    </tr>\n",
       "    <tr>\n",
       "      <th>3</th>\n",
       "      <td>United Kingdom</td>\n",
       "      <td>64105654</td>\n",
       "    </tr>\n",
       "    <tr>\n",
       "      <th>4</th>\n",
       "      <td>Honduras</td>\n",
       "      <td>8045990</td>\n",
       "    </tr>\n",
       "  </tbody>\n",
       "</table>\n",
       "</div>"
      ],
      "text/plain": [
       "          Country  Population\n",
       "0     Puerto Rico     3725789\n",
       "1        Colombia    47661787\n",
       "2           Ceuta       82376\n",
       "3  United Kingdom    64105654\n",
       "4        Honduras     8045990"
      ]
     },
     "execution_count": 65,
     "metadata": {},
     "output_type": "execute_result"
    }
   ],
   "source": [
    "# set country population dictionary\n",
    "country_pops = {}\n",
    "\n",
    "# Loops to find country name and last population count\n",
    "for element in document_tree.iterfind('country'):\n",
    "    country = element.find('name')\n",
    "    population = element.find('.//population[last()]')\n",
    "    \n",
    "    # append population values to dictionary\n",
    "    if country != None and population != None:\n",
    "        country_pops[country.text] = int(population.text)\n",
    "\n",
    "# create dataframe from dictionary, keys as rows\n",
    "country_pops_df = pd.DataFrame.from_dict(country_pops, orient='index')\n",
    "\n",
    "# label columns\n",
    "country_pops_df.reset_index(drop=False, inplace=True)\n",
    "country_pops_df.columns = ['Country', 'Population']\n",
    "country_pops_df.head()\n",
    "        "
   ]
  },
  {
   "cell_type": "code",
   "execution_count": 95,
   "metadata": {
    "collapsed": false
   },
   "outputs": [],
   "source": [
    "# set ethnicity list and column labels for future dataframe\n",
    "ethnic_groups = []\n",
    "cols = ['Country', 'Ethnic_group', 'Percentage']\n",
    "\n",
    "# Loop through document_tree to find ethnic groups\n",
    "for country in document_tree.iterfind('country'):\n",
    "    countries = country.find('name').text\n",
    "    \n",
    "    for ethnic_group in country.iterfind('ethnicgroup'):\n",
    "        ethnicity = ethnic_group.text\n",
    "        percentage = ethnic_group.attrib['percentage']\n",
    "        ethnic_groups.append([countries, ethnicity, percentage])\n",
    "        \n",
    "\n"
   ]
  },
  {
   "cell_type": "code",
   "execution_count": 96,
   "metadata": {
    "collapsed": false
   },
   "outputs": [
    {
     "data": {
      "text/html": [
       "<div>\n",
       "<table border=\"1\" class=\"dataframe\">\n",
       "  <thead>\n",
       "    <tr style=\"text-align: right;\">\n",
       "      <th></th>\n",
       "      <th>Country</th>\n",
       "      <th>Ethnic_group</th>\n",
       "      <th>Percentage</th>\n",
       "      <th>Population</th>\n",
       "    </tr>\n",
       "  </thead>\n",
       "  <tbody>\n",
       "    <tr>\n",
       "      <th>0</th>\n",
       "      <td>Albania</td>\n",
       "      <td>Albanian</td>\n",
       "      <td>95</td>\n",
       "      <td>2800138</td>\n",
       "    </tr>\n",
       "    <tr>\n",
       "      <th>1</th>\n",
       "      <td>Albania</td>\n",
       "      <td>Greek</td>\n",
       "      <td>3</td>\n",
       "      <td>2800138</td>\n",
       "    </tr>\n",
       "    <tr>\n",
       "      <th>2</th>\n",
       "      <td>Greece</td>\n",
       "      <td>Greek</td>\n",
       "      <td>93</td>\n",
       "      <td>10816286</td>\n",
       "    </tr>\n",
       "    <tr>\n",
       "      <th>3</th>\n",
       "      <td>Macedonia</td>\n",
       "      <td>Macedonian</td>\n",
       "      <td>64.2</td>\n",
       "      <td>2059794</td>\n",
       "    </tr>\n",
       "    <tr>\n",
       "      <th>4</th>\n",
       "      <td>Macedonia</td>\n",
       "      <td>Albanian</td>\n",
       "      <td>25.2</td>\n",
       "      <td>2059794</td>\n",
       "    </tr>\n",
       "  </tbody>\n",
       "</table>\n",
       "</div>"
      ],
      "text/plain": [
       "     Country Ethnic_group Percentage  Population\n",
       "0    Albania     Albanian         95     2800138\n",
       "1    Albania        Greek          3     2800138\n",
       "2     Greece        Greek         93    10816286\n",
       "3  Macedonia   Macedonian       64.2     2059794\n",
       "4  Macedonia     Albanian       25.2     2059794"
      ]
     },
     "execution_count": 96,
     "metadata": {},
     "output_type": "execute_result"
    }
   ],
   "source": [
    "# Create dataframe and combine with country_pops_df\n",
    "ethnic_groups_df = pd.DataFrame(ethnic_groups, columns=cols)\n",
    "ethnic_groups_df = ethnic_groups_df.merge(country_pops_df, on='Country')\n",
    "ethnic_groups_df.head()"
   ]
  },
  {
   "cell_type": "code",
   "execution_count": 99,
   "metadata": {
    "collapsed": false
   },
   "outputs": [
    {
     "data": {
      "text/html": [
       "<div>\n",
       "<table border=\"1\" class=\"dataframe\">\n",
       "  <thead>\n",
       "    <tr style=\"text-align: right;\">\n",
       "      <th></th>\n",
       "      <th>Country</th>\n",
       "      <th>Ethnic_group</th>\n",
       "      <th>Percentage</th>\n",
       "      <th>Country_Population</th>\n",
       "      <th>Ethnic_group_Population</th>\n",
       "    </tr>\n",
       "  </thead>\n",
       "  <tbody>\n",
       "    <tr>\n",
       "      <th>0</th>\n",
       "      <td>Albania</td>\n",
       "      <td>Albanian</td>\n",
       "      <td>95</td>\n",
       "      <td>2800138</td>\n",
       "      <td>2660131</td>\n",
       "    </tr>\n",
       "    <tr>\n",
       "      <th>1</th>\n",
       "      <td>Albania</td>\n",
       "      <td>Greek</td>\n",
       "      <td>3</td>\n",
       "      <td>2800138</td>\n",
       "      <td>84004</td>\n",
       "    </tr>\n",
       "    <tr>\n",
       "      <th>2</th>\n",
       "      <td>Greece</td>\n",
       "      <td>Greek</td>\n",
       "      <td>93</td>\n",
       "      <td>10816286</td>\n",
       "      <td>10059145</td>\n",
       "    </tr>\n",
       "    <tr>\n",
       "      <th>3</th>\n",
       "      <td>Macedonia</td>\n",
       "      <td>Macedonian</td>\n",
       "      <td>64.2</td>\n",
       "      <td>2059794</td>\n",
       "      <td>1322387</td>\n",
       "    </tr>\n",
       "    <tr>\n",
       "      <th>4</th>\n",
       "      <td>Macedonia</td>\n",
       "      <td>Albanian</td>\n",
       "      <td>25.2</td>\n",
       "      <td>2059794</td>\n",
       "      <td>519068</td>\n",
       "    </tr>\n",
       "  </tbody>\n",
       "</table>\n",
       "</div>"
      ],
      "text/plain": [
       "     Country Ethnic_group Percentage  Country_Population  \\\n",
       "0    Albania     Albanian         95             2800138   \n",
       "1    Albania        Greek          3             2800138   \n",
       "2     Greece        Greek         93            10816286   \n",
       "3  Macedonia   Macedonian       64.2             2059794   \n",
       "4  Macedonia     Albanian       25.2             2059794   \n",
       "\n",
       "   Ethnic_group_Population  \n",
       "0                  2660131  \n",
       "1                    84004  \n",
       "2                 10059145  \n",
       "3                  1322387  \n",
       "4                   519068  "
      ]
     },
     "execution_count": 99,
     "metadata": {},
     "output_type": "execute_result"
    }
   ],
   "source": [
    "#Rename columns\n",
    "ethnic_groups_df = ethnic_groups_df.rename(columns={'Population': 'Country_Population'})\n",
    "\n",
    "#Create ethnic_group_population column\n",
    "ethnic_groups_df['Ethnic_group_Population'] = (ethnic_groups_df['Percentage'].astype(float) / 100) * ethnic_groups_df['Country_Population']\n",
    "ethnic_groups_df['Ethnic_group_Population'] = ethnic_groups_df['Ethnic_group_Population'].astype(int)\n",
    "ethnic_groups_df.head()"
   ]
  },
  {
   "cell_type": "code",
   "execution_count": 100,
   "metadata": {
    "collapsed": false
   },
   "outputs": [
    {
     "data": {
      "text/html": [
       "<div>\n",
       "<table border=\"1\" class=\"dataframe\">\n",
       "  <thead>\n",
       "    <tr style=\"text-align: right;\">\n",
       "      <th></th>\n",
       "      <th>Country_Population</th>\n",
       "      <th>Ethnic_group_Population</th>\n",
       "    </tr>\n",
       "    <tr>\n",
       "      <th>Ethnic_group</th>\n",
       "      <th></th>\n",
       "      <th></th>\n",
       "    </tr>\n",
       "  </thead>\n",
       "  <tbody>\n",
       "    <tr>\n",
       "      <th>Han Chinese</th>\n",
       "      <td>1360720000</td>\n",
       "      <td>1245058800</td>\n",
       "    </tr>\n",
       "    <tr>\n",
       "      <th>Indo-Aryan</th>\n",
       "      <td>1210854977</td>\n",
       "      <td>871815583</td>\n",
       "    </tr>\n",
       "    <tr>\n",
       "      <th>European</th>\n",
       "      <td>1157295639</td>\n",
       "      <td>494872201</td>\n",
       "    </tr>\n",
       "    <tr>\n",
       "      <th>African</th>\n",
       "      <td>975352746</td>\n",
       "      <td>318325104</td>\n",
       "    </tr>\n",
       "    <tr>\n",
       "      <th>Dravidian</th>\n",
       "      <td>1210854977</td>\n",
       "      <td>302713744</td>\n",
       "    </tr>\n",
       "    <tr>\n",
       "      <th>Mestizo</th>\n",
       "      <td>279743964</td>\n",
       "      <td>157734349</td>\n",
       "    </tr>\n",
       "    <tr>\n",
       "      <th>Bengali</th>\n",
       "      <td>149772364</td>\n",
       "      <td>146776916</td>\n",
       "    </tr>\n",
       "    <tr>\n",
       "      <th>Russian</th>\n",
       "      <td>322438406</td>\n",
       "      <td>131856989</td>\n",
       "    </tr>\n",
       "    <tr>\n",
       "      <th>Japanese</th>\n",
       "      <td>127298000</td>\n",
       "      <td>126534212</td>\n",
       "    </tr>\n",
       "    <tr>\n",
       "      <th>Malay</th>\n",
       "      <td>377500275</td>\n",
       "      <td>121993548</td>\n",
       "    </tr>\n",
       "  </tbody>\n",
       "</table>\n",
       "</div>"
      ],
      "text/plain": [
       "              Country_Population  Ethnic_group_Population\n",
       "Ethnic_group                                             \n",
       "Han Chinese           1360720000               1245058800\n",
       "Indo-Aryan            1210854977                871815583\n",
       "European              1157295639                494872201\n",
       "African                975352746                318325104\n",
       "Dravidian             1210854977                302713744\n",
       "Mestizo                279743964                157734349\n",
       "Bengali                149772364                146776916\n",
       "Russian                322438406                131856989\n",
       "Japanese               127298000                126534212\n",
       "Malay                  377500275                121993548"
      ]
     },
     "execution_count": 100,
     "metadata": {},
     "output_type": "execute_result"
    }
   ],
   "source": [
    "# Display top 10 ethnicities using groupby\n",
    "ethnic_groups_final = ethnic_groups_df.groupby('Ethnic_group').sum()\n",
    "ethnic_groups_final.sort_values(by='Ethnic_group_Population', ascending=False, inplace=True)\n",
    "ethnic_groups_final.head(10)"
   ]
  },
  {
   "cell_type": "markdown",
   "metadata": {},
   "source": [
    "# Name and Country of Longest River"
   ]
  },
  {
   "cell_type": "code",
   "execution_count": 150,
   "metadata": {
    "collapsed": false
   },
   "outputs": [
    {
     "data": {
      "text/html": [
       "<div>\n",
       "<table border=\"1\" class=\"dataframe\">\n",
       "  <thead>\n",
       "    <tr style=\"text-align: right;\">\n",
       "      <th></th>\n",
       "      <th>0</th>\n",
       "    </tr>\n",
       "  </thead>\n",
       "  <tbody>\n",
       "    <tr>\n",
       "      <th>B</th>\n",
       "      <td>Belgium</td>\n",
       "    </tr>\n",
       "    <tr>\n",
       "      <th>WEST</th>\n",
       "      <td>West Bank</td>\n",
       "    </tr>\n",
       "    <tr>\n",
       "      <th>ARU</th>\n",
       "      <td>Aruba</td>\n",
       "    </tr>\n",
       "    <tr>\n",
       "      <th>KIR</th>\n",
       "      <td>Kiribati</td>\n",
       "    </tr>\n",
       "    <tr>\n",
       "      <th>WS</th>\n",
       "      <td>Samoa</td>\n",
       "    </tr>\n",
       "  </tbody>\n",
       "</table>\n",
       "</div>"
      ],
      "text/plain": [
       "              0\n",
       "B       Belgium\n",
       "WEST  West Bank\n",
       "ARU       Aruba\n",
       "KIR    Kiribati\n",
       "WS        Samoa"
      ]
     },
     "execution_count": 150,
     "metadata": {},
     "output_type": "execute_result"
    }
   ],
   "source": [
    "# create country dictionary for dataframe\n",
    "country_dict = {}\n",
    "\n",
    "# Adds country code ('car_code') as key to dictionary with value as country name\n",
    "for code in document_tree.iterfind('country'):\n",
    "    country_dict[code.attrib['car_code']] = code.find('name').text\n",
    "\n",
    "# create dataframe, values as rows\n",
    "country_df = pd.DataFrame.from_dict(country_dict, orient='index')\n",
    "country_df.head()"
   ]
  },
  {
   "cell_type": "code",
   "execution_count": 151,
   "metadata": {
    "collapsed": false
   },
   "outputs": [
    {
     "data": {
      "text/html": [
       "<div>\n",
       "<table border=\"1\" class=\"dataframe\">\n",
       "  <thead>\n",
       "    <tr style=\"text-align: right;\">\n",
       "      <th></th>\n",
       "      <th>Country Code</th>\n",
       "      <th>Country</th>\n",
       "    </tr>\n",
       "  </thead>\n",
       "  <tbody>\n",
       "    <tr>\n",
       "      <th>0</th>\n",
       "      <td>B</td>\n",
       "      <td>Belgium</td>\n",
       "    </tr>\n",
       "    <tr>\n",
       "      <th>1</th>\n",
       "      <td>WEST</td>\n",
       "      <td>West Bank</td>\n",
       "    </tr>\n",
       "    <tr>\n",
       "      <th>2</th>\n",
       "      <td>ARU</td>\n",
       "      <td>Aruba</td>\n",
       "    </tr>\n",
       "    <tr>\n",
       "      <th>3</th>\n",
       "      <td>KIR</td>\n",
       "      <td>Kiribati</td>\n",
       "    </tr>\n",
       "    <tr>\n",
       "      <th>4</th>\n",
       "      <td>WS</td>\n",
       "      <td>Samoa</td>\n",
       "    </tr>\n",
       "  </tbody>\n",
       "</table>\n",
       "</div>"
      ],
      "text/plain": [
       "  Country Code    Country\n",
       "0            B    Belgium\n",
       "1         WEST  West Bank\n",
       "2          ARU      Aruba\n",
       "3          KIR   Kiribati\n",
       "4           WS      Samoa"
      ]
     },
     "execution_count": 151,
     "metadata": {},
     "output_type": "execute_result"
    }
   ],
   "source": [
    "# set column names\n",
    "country_df.reset_index(drop=False, inplace=True)\n",
    "country_df.columns = ['Country Code', 'Country']\n",
    "country_df.head()"
   ]
  },
  {
   "cell_type": "code",
   "execution_count": 167,
   "metadata": {
    "collapsed": false
   },
   "outputs": [],
   "source": [
    "# create river list\n",
    "river_list = []\n",
    "\n",
    "# loop for river names, river codes, river lengths\n",
    "for rivers in document_tree.iterfind('river'):\n",
    "    river_name = rivers.find('name').text\n",
    "    river_length_temp = rivers.find('length')\n",
    "    if river_length_temp != None:\n",
    "        river_length = river_length_temp.text\n",
    "\n",
    "# separate rivers that run through different countries\n",
    "        for river_code in rivers.attrib['country'].split():\n",
    "            river_country_code = country_dict[river_code]\n",
    "    river_list.append([river_country_code, river_code, river_name, float(river_length)])"
   ]
  },
  {
   "cell_type": "code",
   "execution_count": 168,
   "metadata": {
    "collapsed": false
   },
   "outputs": [
    {
     "data": {
      "text/html": [
       "<div>\n",
       "<table border=\"1\" class=\"dataframe\">\n",
       "  <thead>\n",
       "    <tr style=\"text-align: right;\">\n",
       "      <th></th>\n",
       "      <th>Country</th>\n",
       "      <th>Code</th>\n",
       "      <th>River_Name</th>\n",
       "      <th>River_Length</th>\n",
       "    </tr>\n",
       "  </thead>\n",
       "  <tbody>\n",
       "    <tr>\n",
       "      <th>174</th>\n",
       "      <td>Peru</td>\n",
       "      <td>PE</td>\n",
       "      <td>Amazonas</td>\n",
       "      <td>6448.0</td>\n",
       "    </tr>\n",
       "  </tbody>\n",
       "</table>\n",
       "</div>"
      ],
      "text/plain": [
       "    Country Code River_Name  River_Length\n",
       "174    Peru   PE   Amazonas        6448.0"
      ]
     },
     "execution_count": 168,
     "metadata": {},
     "output_type": "execute_result"
    }
   ],
   "source": [
    "# create river dataframe and print longest river\n",
    "river_labels = ['Country', 'Code', 'River_Name', 'River_Length']\n",
    "river_df = pd.DataFrame(river_list, columns=river_labels)\n",
    "river_df.sort_values(by='River_Length', ascending=False).head(1)\n",
    "\n",
    "# Longest River"
   ]
  },
  {
   "cell_type": "markdown",
   "metadata": {},
   "source": [
    "# Name and Country of Largest Lake"
   ]
  },
  {
   "cell_type": "code",
   "execution_count": 184,
   "metadata": {
    "collapsed": false
   },
   "outputs": [],
   "source": [
    "# create lake list\n",
    "lake_list = []\n",
    "\n",
    "# loop for lake names, lake codes, lake areas\n",
    "for lakes in document_tree.iterfind('lake'):\n",
    "    lake_name = lakes.find('name').text\n",
    "    lake_area_temp = lakes.find('area')\n",
    "    if lake_area_temp != None:\n",
    "        lake_area = lake_area_temp.text\n",
    "\n",
    "        # separate lakes by country\n",
    "        for lake_code in lakes.attrib['country'].split():\n",
    "            lake_country_code = country_dict[lake_code]\n",
    "    lake_list.append([lake_country_code, lake_code, lake_name, float(lake_area)])"
   ]
  },
  {
   "cell_type": "code",
   "execution_count": 185,
   "metadata": {
    "collapsed": false
   },
   "outputs": [
    {
     "data": {
      "text/html": [
       "<div>\n",
       "<table border=\"1\" class=\"dataframe\">\n",
       "  <thead>\n",
       "    <tr style=\"text-align: right;\">\n",
       "      <th></th>\n",
       "      <th>Country</th>\n",
       "      <th>Code</th>\n",
       "      <th>Lake_Name</th>\n",
       "      <th>Lake_Area</th>\n",
       "    </tr>\n",
       "  </thead>\n",
       "  <tbody>\n",
       "    <tr>\n",
       "      <th>54</th>\n",
       "      <td>Turkmenistan</td>\n",
       "      <td>TM</td>\n",
       "      <td>Caspian Sea</td>\n",
       "      <td>386400.0</td>\n",
       "    </tr>\n",
       "  </tbody>\n",
       "</table>\n",
       "</div>"
      ],
      "text/plain": [
       "         Country Code    Lake_Name  Lake_Area\n",
       "54  Turkmenistan   TM  Caspian Sea   386400.0"
      ]
     },
     "execution_count": 185,
     "metadata": {},
     "output_type": "execute_result"
    }
   ],
   "source": [
    "# create lake dataframe and print largest lake\n",
    "lake_labels = ['Country', 'Code', 'Lake_Name', 'Lake_Area']\n",
    "lake_df = pd.DataFrame(lake_list, columns=lake_labels)\n",
    "lake_df.sort_values(by='Lake_Area', ascending=False).head(1)\n",
    "\n",
    "#largest lake"
   ]
  },
  {
   "cell_type": "markdown",
   "metadata": {},
   "source": [
    "# Name and Country of Highest Airport"
   ]
  },
  {
   "cell_type": "code",
   "execution_count": 197,
   "metadata": {
    "collapsed": false
   },
   "outputs": [],
   "source": [
    "# create airport list\n",
    "airport_list = []\n",
    "\n",
    "# loop for airport names, airport codes, airport elevations\n",
    "for airports in document_tree.iterfind('airport'):\n",
    "    airport_name = airports.find('name').text\n",
    "    airport_elevation_temp = airports.find('elevation')\n",
    "    if airport_elevation_temp != None:\n",
    "        airport_elevation = airport_elevation_temp.text\n",
    "        \n",
    "        # separate airport by country\n",
    "        for airport_code in airports.attrib['country'].split():\n",
    "            airport_country_code = country_dict[airport_code]\n",
    "    airport_list.append([airport_country_code, airport_code, airport_name, airport_elevation])      \n"
   ]
  },
  {
   "cell_type": "code",
   "execution_count": 202,
   "metadata": {
    "collapsed": false
   },
   "outputs": [
    {
     "data": {
      "text/html": [
       "<div>\n",
       "<table border=\"1\" class=\"dataframe\">\n",
       "  <thead>\n",
       "    <tr style=\"text-align: right;\">\n",
       "      <th></th>\n",
       "      <th>Country</th>\n",
       "      <th>Code</th>\n",
       "      <th>Aiport_Name</th>\n",
       "      <th>Airport_Elevation</th>\n",
       "    </tr>\n",
       "  </thead>\n",
       "  <tbody>\n",
       "    <tr>\n",
       "      <th>80</th>\n",
       "      <td>Bolivia</td>\n",
       "      <td>BOL</td>\n",
       "      <td>El Alto Intl</td>\n",
       "      <td>4063.0</td>\n",
       "    </tr>\n",
       "  </tbody>\n",
       "</table>\n",
       "</div>"
      ],
      "text/plain": [
       "    Country Code   Aiport_Name  Airport_Elevation\n",
       "80  Bolivia  BOL  El Alto Intl             4063.0"
      ]
     },
     "execution_count": 202,
     "metadata": {},
     "output_type": "execute_result"
    }
   ],
   "source": [
    "# create airport df and print highest airport\n",
    "airport_labels = ['Country', 'Code', 'Aiport_Name', 'Airport_Elevation']\n",
    "airport_temp_df = pd.DataFrame(airport_list, columns=airport_labels)\n",
    "\n",
    "# convert values to numeric, some are NoneType\n",
    "airport_df = airport_temp_df.apply(pd.to_numeric, errors='ignore')\n",
    "airport_df.head()\n",
    "airport_df.sort_values(by='Airport_Elevation', ascending=False).head(1)\n",
    "\n",
    "# highest airport"
   ]
  },
  {
   "cell_type": "code",
   "execution_count": null,
   "metadata": {
    "collapsed": true
   },
   "outputs": [],
   "source": []
  }
 ],
 "metadata": {
  "anaconda-cloud": {},
  "kernelspec": {
   "display_name": "Python [conda root]",
   "language": "python",
   "name": "conda-root-py"
  },
  "language_info": {
   "codemirror_mode": {
    "name": "ipython",
    "version": 3
   },
   "file_extension": ".py",
   "mimetype": "text/x-python",
   "name": "python",
   "nbconvert_exporter": "python",
   "pygments_lexer": "ipython3",
   "version": "3.5.2"
  }
 },
 "nbformat": 4,
 "nbformat_minor": 0
}
